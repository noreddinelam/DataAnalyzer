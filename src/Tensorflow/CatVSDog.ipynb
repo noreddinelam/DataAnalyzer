{
 "cells": [
  {
   "cell_type": "markdown",
   "source": [
    "Convolution : filter the image"
   ],
   "metadata": {
    "collapsed": false
   }
  },
  {
   "cell_type": "markdown",
   "source": [],
   "metadata": {
    "collapsed": false
   }
  },
  {
   "cell_type": "code",
   "execution_count": 49,
   "metadata": {
    "collapsed": true
   },
   "outputs": [],
   "source": [
    "import tensorflow as tf\n",
    "from keras.preprocessing import image"
   ]
  },
  {
   "cell_type": "markdown",
   "source": [
    "import the dataset"
   ],
   "metadata": {
    "collapsed": false
   }
  },
  {
   "cell_type": "code",
   "execution_count": 50,
   "outputs": [],
   "source": [
    "model = tf.keras.models.Sequential([\n",
    "    tf.keras.layers.Conv2D(16, (3, 3), activation='relu', input_shape=(150, 150, 3)),\n",
    "    tf.keras.layers.MaxPooling2D(2, 2),\n",
    "    tf.keras.layers.Conv2D(32, (3, 3), activation='relu'),\n",
    "    tf.keras.layers.MaxPooling2D(2, 2),\n",
    "    tf.keras.layers.Conv2D(64, (3, 3), activation='relu'),\n",
    "    tf.keras.layers.MaxPooling2D(2, 2),\n",
    "    tf.keras.layers.Flatten(),\n",
    "    tf.keras.layers.Dense(128, activation='relu'),\n",
    "    tf.keras.layers.Dense(1, activation='sigmoid')\n",
    "])"
   ],
   "metadata": {
    "collapsed": false,
    "pycharm": {
     "name": "#%%\n"
    }
   }
  },
  {
   "cell_type": "markdown",
   "source": [
    "Build the model with optimizer and loss function"
   ],
   "metadata": {
    "collapsed": false
   }
  },
  {
   "cell_type": "code",
   "execution_count": 51,
   "outputs": [],
   "source": [
    "model.compile(optimizer=tf.keras.optimizers.RMSprop(learning_rate=0.0001), loss='binary_crossentropy', metrics=['acc'])"
   ],
   "metadata": {
    "collapsed": false,
    "pycharm": {
     "name": "#%%\n"
    }
   }
  },
  {
   "cell_type": "markdown",
   "source": [
    "Training the model : To find the relation between data and labels"
   ],
   "metadata": {
    "collapsed": false
   }
  },
  {
   "cell_type": "code",
   "execution_count": 55,
   "outputs": [
    {
     "name": "stdout",
     "output_type": "stream",
     "text": [
      "Found 20000 images belonging to 2 classes.\n",
      "Found 5000 images belonging to 2 classes.\n",
      "Epoch 1/10\n",
      "10/10 [==============================] - 23s 2s/step - loss: 0.6533 - acc: 0.6096 - val_loss: 0.6391 - val_acc: 0.6587\n",
      "Epoch 2/10\n",
      "10/10 [==============================] - 23s 2s/step - loss: 0.6413 - acc: 0.6244 - val_loss: 0.6273 - val_acc: 0.6820\n",
      "Epoch 3/10\n",
      "10/10 [==============================] - 20s 2s/step - loss: 0.6524 - acc: 0.6240 - val_loss: 0.6287 - val_acc: 0.6593\n",
      "Epoch 4/10\n",
      "10/10 [==============================] - 17s 2s/step - loss: 0.6383 - acc: 0.6344 - val_loss: 0.6414 - val_acc: 0.6167\n",
      "Epoch 5/10\n",
      "10/10 [==============================] - 18s 2s/step - loss: 0.6352 - acc: 0.6364 - val_loss: 0.6113 - val_acc: 0.6780\n",
      "Epoch 6/10\n",
      "10/10 [==============================] - 21s 2s/step - loss: 0.6240 - acc: 0.6536 - val_loss: 0.6021 - val_acc: 0.6960\n",
      "Epoch 7/10\n",
      "10/10 [==============================] - 26s 3s/step - loss: 0.6124 - acc: 0.6640 - val_loss: 0.6083 - val_acc: 0.6660\n",
      "Epoch 8/10\n",
      "10/10 [==============================] - 24s 2s/step - loss: 0.6076 - acc: 0.6628 - val_loss: 0.6543 - val_acc: 0.5847\n",
      "Epoch 9/10\n",
      "10/10 [==============================] - 23s 2s/step - loss: 0.6178 - acc: 0.6520 - val_loss: 0.6097 - val_acc: 0.6447\n",
      "Epoch 10/10\n",
      "10/10 [==============================] - 21s 2s/step - loss: 0.6009 - acc: 0.6744 - val_loss: 0.5858 - val_acc: 0.7047\n"
     ]
    }
   ],
   "source": [
    "TRAINING_DIR = r\"C:\\Users\\idris\\OneDrive\\Bureau\\Study\\s6\\DATA\\kagglecatsanddogs_3367a\\training\"\n",
    "train_datagen = image.ImageDataGenerator(rescale=1.0/255.) #normalisation\n",
    "train_generator = train_datagen.flow_from_directory(TRAINING_DIR,batch_size=250,class_mode='binary',target_size=(150, 150))\n",
    "\n",
    "VALIDATION_DIR = r\"C:\\Users\\idris\\OneDrive\\Bureau\\Study\\s6\\DATA\\kagglecatsanddogs_3367a\\testing\"\n",
    "validation_datagen = image.ImageDataGenerator(rescale=1.0/255.)\n",
    "validation_generator = validation_datagen.flow_from_directory(VALIDATION_DIR,                                                  batch_size=250,class_mode='binary',target_size=(150, 150))\n",
    "\n",
    "history = model.fit(train_generator, epochs=10, steps_per_epoch=10,\n",
    "                    validation_data=validation_generator, validation_steps=6)"
   ],
   "metadata": {
    "collapsed": false,
    "pycharm": {
     "name": "#%%\n"
    }
   }
  },
  {
   "cell_type": "code",
   "execution_count": 68,
   "outputs": [
    {
     "name": "stdout",
     "output_type": "stream",
     "text": [
      "[6.0411486e-25]\n",
      " is a cat\n"
     ]
    }
   ],
   "source": [
    "from PIL import Image as PImage\n",
    "import numpy as np\n",
    "\n",
    "def loadImage(path):\n",
    "    return PImage.open(path +\"\\\\\" +\"807.jpg\")\n",
    "\n",
    "path =  r\"C:\\Users\\idris\\OneDrive\\Bureau\\Study\\s6\\DATA\\kagglecatsanddogs_3367a\\training\\cat\"\n",
    "\n",
    "# your images in an array\n",
    "img = loadImage(path)\n",
    "img.show()\n",
    "rimg=img.resize((150,150))\n",
    "x = np.asarray(rimg)\n",
    "x = np.expand_dims(x, axis=0)\n",
    "image = np.vstack([x])\n",
    "classes = model.predict(image)\n",
    "print(classes[0])\n",
    "if classes[0]>0.5:\n",
    "    print(\" is a dog\")\n",
    "else:\n",
    "    print(\" is a cat\")"
   ],
   "metadata": {
    "collapsed": false,
    "pycharm": {
     "name": "#%%\n"
    }
   }
  }
 ],
 "metadata": {
  "kernelspec": {
   "display_name": "Python 3",
   "language": "python",
   "name": "python3"
  },
  "language_info": {
   "codemirror_mode": {
    "name": "ipython",
    "version": 2
   },
   "file_extension": ".py",
   "mimetype": "text/x-python",
   "name": "python",
   "nbconvert_exporter": "python",
   "pygments_lexer": "ipython2",
   "version": "2.7.6"
  }
 },
 "nbformat": 4,
 "nbformat_minor": 0
}