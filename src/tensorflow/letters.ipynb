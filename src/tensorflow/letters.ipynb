{
 "cells": [
  {
   "cell_type": "markdown",
   "metadata": {
    "collapsed": false,
    "pycharm": {
     "name": "#%% md\n"
    }
   },
   "source": [
    "# Handwritten letter recognizer"
   ]
  },
  {
   "cell_type": "markdown",
   "metadata": {
    "collapsed": true,
    "pycharm": {
     "name": "#%% md\n"
    }
   },
   "source": [
    "The purpose of this model is to develop a  Convolutional Neural Network for recognizing handwritten letters\n"
   ]
  },
  {
   "cell_type": "markdown",
   "metadata": {
    "collapsed": false,
    "pycharm": {
     "name": "#%% md\n"
    }
   },
   "source": [
    "### Import statements"
   ]
  },
  {
   "cell_type": "code",
   "execution_count": 108,
   "metadata": {
    "collapsed": false,
    "pycharm": {
     "name": "#%%\n"
    }
   },
   "outputs": [],
   "source": [
    "import tensorflow as tf\n",
    "from keras.preprocessing import image\n",
    "from tensorflow.python.keras.callbacks import ReduceLROnPlateau\n",
    "from keras.utils.vis_utils import plot_model\n",
    "\n",
    "import sys\n",
    "sys.path.insert(1, \"/home/azureuser/DataAnalyzer/src\")\n",
    "\n",
    "from src.data.data_validator import *\n",
    "from src.data.data_processing import *\n",
    "\n",
    "import string\n",
    "\n",
    "from sklearn.metrics import confusion_matrix\n",
    "import seaborn as sns\n",
    "\n",
    "from matplotlib import pyplot\n"
   ]
  },
  {
   "cell_type": "markdown",
   "metadata": {
    "collapsed": false,
    "pycharm": {
     "name": "#%% md\n"
    }
   },
   "source": [
    "## The data preparation\n"
   ]
  },
  {
   "cell_type": "markdown",
   "metadata": {
    "collapsed": false,
    "pycharm": {
     "name": "#%% md\n"
    }
   },
   "source": [
    "### Data Validation"
   ]
  },
  {
   "cell_type": "markdown",
   "metadata": {
    "collapsed": false,
    "pycharm": {
     "name": "#%% md\n"
    }
   },
   "source": [
    "Validate the dataset using the data_validator method"
   ]
  },
  {
   "cell_type": "markdown",
   "metadata": {
    "pycharm": {
     "name": "#%% md\n"
    }
   },
   "source": [
    "Benchmark : le data_validator permet de vérifier chaque dossier\n",
    "    Erreur identifié :\n",
    "        UnidentifiedImageError /home/azureuser/letters_data/training/L/17625.jpg\n"
   ]
  },
  {
   "cell_type": "code",
   "execution_count": 109,
   "metadata": {
    "collapsed": false,
    "pycharm": {
     "name": "#%%\n"
    }
   },
   "outputs": [],
   "source": [
    "\n",
    "training_path = \"/home/azureuser/letters_dataset/training\"\n",
    "testing_path =  \"/home/azureuser/letters_dataset/testing\"\n",
    "validation_path =  \"/home/azureuser/letters_dataset/testing\"\n",
    "\n",
    "\n",
    "alphabet_string = string.ascii_uppercase\n",
    "alphabet_list = list(alphabet_string)\n",
    "\n",
    "for i in alphabet_list:\n",
    "    data_validator(training_path + \"/\" + i)\n",
    "    data_validator(testing_path  + \"/\" + i)\n",
    "    data_validator(validation_path  + \"/\" + i)"
   ]
  },
  {
   "cell_type": "markdown",
   "metadata": {
    "collapsed": false,
    "pycharm": {
     "name": "#%% md\n"
    }
   },
   "source": [
    "### Generate directory to read images from & Data augmentation"
   ]
  },
  {
   "cell_type": "markdown",
   "metadata": {
    "collapsed": false,
    "pycharm": {
     "name": "#%% md\n"
    }
   },
   "source": [
    "#### Normalization\n",
    "\n",
    "To avoid overfitting we will alter our dataset.\n",
    "We chose :\n",
    "\n",
    "    - Random rotation by 10° of some training image\n",
    "    - Brightness_range from 30 to 70 : The user will take picture so we will adapt our model\n",
    "\n",
    "    -Shift image to make them not in the center\n",
    "        - Randomly shift images vertically\n",
    "        - Randomly shift images horizontally\n"
   ]
  },
  {
   "cell_type": "code",
   "execution_count": 110,
   "metadata": {
    "collapsed": false,
    "pycharm": {
     "name": "#%%\n"
    }
   },
   "outputs": [],
   "source": [
    "train_datagen = image.ImageDataGenerator(rescale=1.0/255.,rotation_range=10,width_shift_range=0.1,\n",
    "        height_shift_range=0.1 # Randomly zoom image\n",
    ") \n",
    "test_datagen = image.ImageDataGenerator(rescale=1.0/255.,rotation_range=10,  # Randomly zoom image\n",
    "        width_shift_range=0.1,\n",
    "        height_shift_range=0.1)\n",
    "validation_datagen = image.ImageDataGenerator(rescale=1.0/255.,rotation_range=10, # Randomly zoom image\n",
    "        width_shift_range=0.1,\n",
    "        height_shift_range=0.1)"
   ]
  },
  {
   "cell_type": "markdown",
   "metadata": {
    "collapsed": false,
    "pycharm": {
     "name": "#%% md\n"
    }
   },
   "source": [
    "#### Generate and set directory to read images from with data augnemtation"
   ]
  },
  {
   "cell_type": "code",
   "execution_count": 111,
   "metadata": {
    "collapsed": false,
    "pycharm": {
     "name": "#%%\n"
    }
   },
   "outputs": [
    {
     "name": "stdout",
     "output_type": "stream",
     "text": [
      "Found 182000 images belonging to 26 classes.\n",
      "Found 52000 images belonging to 26 classes.\n",
      "Found 52000 images belonging to 26 classes.\n"
     ]
    }
   ],
   "source": [
    "#object of class ImageDataGenerator with the recale property\n",
    "train_generator = train_datagen.flow_from_directory(training_path,batch_size=100,class_mode='sparse',target_size=(28, 28),color_mode=\"rgb\", shuffle=True  )\n",
    "\n",
    "test_generator = test_datagen.flow_from_directory(testing_path,class_mode='sparse',target_size=(28, 28),color_mode=\"rgb\",  shuffle=False)\n",
    "\n",
    "validation_generator = test_datagen.flow_from_directory(validation_path,class_mode='sparse',target_size=(28, 28),color_mode=\"rgb\", shuffle=True)\n"
   ]
  },
  {
   "cell_type": "markdown",
   "metadata": {
    "collapsed": false,
    "pycharm": {
     "name": "#%% md\n"
    }
   },
   "source": [
    "test_generator & train_generator are directory to read images from.\n",
    "Each subdirectory (digits directory) in this directory will be considered to contain images from one class."
   ]
  },
  {
   "cell_type": "code",
   "execution_count": 112,
   "metadata": {
    "collapsed": false,
    "pycharm": {
     "name": "#%%\n"
    }
   },
   "outputs": [
    {
     "name": "stdout",
     "output_type": "stream",
     "text": [
      "(28, 28, 3)\n",
      "{'A': 0, 'B': 1, 'C': 2, 'D': 3, 'E': 4, 'F': 5, 'G': 6, 'H': 7, 'I': 8, 'J': 9, 'K': 10, 'L': 11, 'M': 12, 'N': 13, 'O': 14, 'P': 15, 'Q': 16, 'R': 17, 'S': 18, 'T': 19, 'U': 20, 'V': 21, 'W': 22, 'X': 23, 'Y': 24, 'Z': 25}\n"
     ]
    }
   ],
   "source": [
    "print(test_generator.image_shape)\n",
    "print(train_generator.class_indices)"
   ]
  },
  {
   "cell_type": "markdown",
   "metadata": {
    "pycharm": {
     "name": "#%% md\n"
    }
   },
   "source": [
    "Invert directory:\n",
    "This allow us to get the class name (get an A instead of a 0s)"
   ]
  },
  {
   "cell_type": "code",
   "execution_count": 113,
   "metadata": {
    "pycharm": {
     "name": "#%%\n"
    }
   },
   "outputs": [
    {
     "name": "stdout",
     "output_type": "stream",
     "text": [
      "{0: 'A', 1: 'B', 2: 'C', 3: 'D', 4: 'E', 5: 'F', 6: 'G', 7: 'H', 8: 'I', 9: 'J', 10: 'K', 11: 'L', 12: 'M', 13: 'N', 14: 'O', 15: 'P', 16: 'Q', 17: 'R', 18: 'S', 19: 'T', 20: 'U', 21: 'V', 22: 'W', 23: 'X', 24: 'Y', 25: 'Z'}\n"
     ]
    }
   ],
   "source": [
    "dict_directory = {v: k for k, v in train_generator.class_indices.items()}\n",
    "print(dict_directory)"
   ]
  },
  {
   "cell_type": "markdown",
   "metadata": {
    "pycharm": {
     "name": "#%% md\n"
    }
   },
   "source": [
    "## Data Visualisation"
   ]
  },
  {
   "cell_type": "code",
   "execution_count": 114,
   "metadata": {
    "pycharm": {
     "name": "#%%\n"
    }
   },
   "outputs": [
    {
     "data": {
      "image/png": "[encoded data removed]",
      "text/plain": [
       "<Figure size 1080x1080 with 25 Axes>"
      ]
     },
     "metadata": {},
     "output_type": "display_data"
    }
   ],
   "source": [
    "# plot first few images\n",
    "for i in range(25):\n",
    "\t# define subplot\n",
    "\tpyplot.subplot(5, 5, i+1)\n",
    "\t# plot raw pixel data\n",
    "\tpyplot.imshow(train_generator[i][0][0], cmap=pyplot.get_cmap('gray'))\n",
    "# show the figure\n",
    "pyplot.show()\n",
    "sns.set(rc = {'figure.figsize':(15,15)})\n"
   ]
  },
  {
   "cell_type": "markdown",
   "metadata": {
    "collapsed": false,
    "pycharm": {
     "name": "#%% md\n"
    }
   },
   "source": [
    "## The CNN modeling and evaluation"
   ]
  },
  {
   "cell_type": "markdown",
   "metadata": {
    "collapsed": false,
    "pycharm": {
     "name": "#%% md\n"
    }
   },
   "source": [
    "### Model"
   ]
  },
  {
   "cell_type": "markdown",
   "metadata": {
    "collapsed": false,
    "pycharm": {
     "name": "#%% md\n"
    }
   },
   "source": [
    "\n",
    "Model : we have to avoid overfitting\n",
    "\n",
    "Softmax :  Softmax takes a set of values, and effectively picks the biggest one, so, for example, if the output of the last layer looks like [0.1, 0.1, 0.05, 0.1, 9.5, 0.1, 0.05, 0.05, 0.05], it saves you from fishing through it looking for the biggest value, and turns it into [0,0,0,0,1,0,0,0,0] -- The goal is to save a lot of coding!\n",
    "activation layer : tf.keras.layers.Dense(10, activation=tf.nn.softmax)])\n",
    "10 : because we have ten classes"
   ]
  },
  {
   "cell_type": "code",
   "execution_count": 115,
   "metadata": {
    "collapsed": false,
    "pycharm": {
     "name": "#%%\n"
    }
   },
   "outputs": [],
   "source": [
    "\n",
    "model_letters = tf.keras.models.Sequential([\n",
    "  tf.keras.layers.Conv2D(64, (3,3), activation='relu', input_shape=(28, 28,3)),\n",
    "  tf.keras.layers.MaxPooling2D(2, 2),\n",
    "  tf.keras.layers.Flatten(),\n",
    "  tf.keras.layers.Dense(512, activation='relu'),\n",
    "  tf.keras.layers.Dense(128, activation='relu'),\n",
    "  tf.keras.layers.Dense(26, activation='softmax')\n",
    "])\n"
   ]
  },
  {
   "cell_type": "markdown",
   "metadata": {
    "pycharm": {
     "name": "#%% md\n"
    }
   },
   "source": [
    "## Summarize Model\n",
    "\n",
    "\n",
    "    The layers and their order in the model.\n",
    "\n",
    "    The output shape of each layer.\n",
    "\n",
    "    The number of parameters (weights) in each layer.\n",
    "\n",
    "    The total number of parameters (weights) in the model.\n"
   ]
  },
  {
   "cell_type": "code",
   "execution_count": 116,
   "metadata": {
    "pycharm": {
     "name": "#%%\n"
    }
   },
   "outputs": [
    {
     "name": "stdout",
     "output_type": "stream",
     "text": [
      "Model: \"sequential_7\"\n",
      "_________________________________________________________________\n",
      " Layer (type)                Output Shape              Param #   \n",
      "=================================================================\n",
      " conv2d_7 (Conv2D)           (None, 26, 26, 64)        1792      \n",
      "                                                                 \n",
      " max_pooling2d_7 (MaxPooling  (None, 13, 13, 64)       0         \n",
      " 2D)                                                             \n",
      "                                                                 \n",
      " flatten_7 (Flatten)         (None, 10816)             0         \n",
      "                                                                 \n",
      " dense_21 (Dense)            (None, 512)               5538304   \n",
      "                                                                 \n",
      " dense_22 (Dense)            (None, 128)               65664     \n",
      "                                                                 \n",
      " dense_23 (Dense)            (None, 26)                3354      \n",
      "                                                                 \n",
      "=================================================================\n",
      "Total params: 5,609,114\n",
      "Trainable params: 5,609,114\n",
      "Non-trainable params: 0\n",
      "_________________________________________________________________\n"
     ]
    }
   ],
   "source": [
    "model_letters.summary()"
   ]
  },
  {
   "cell_type": "markdown",
   "metadata": {
    "pycharm": {
     "name": "#%% md\n"
    }
   },
   "source": [
    "#### Visualize a Deep Learning Neural Network Model in Keras"
   ]
  },
  {
   "cell_type": "code",
   "execution_count": 117,
   "metadata": {
    "pycharm": {
     "name": "#%%\n"
    }
   },
   "outputs": [
    {
     "data": {
      "image/png": "[encoded data removed]",
      "text/plain": [
       "<IPython.core.display.Image object>"
      ]
     },
     "execution_count": 117,
     "metadata": {},
     "output_type": "execute_result"
    }
   ],
   "source": [
    "plot_model(model_letters, to_file='/home/azureuser/letters_dataset/benchmark/model_plot_letter_1.png', show_shapes=True, show_layer_names=True)"
   ]
  },
  {
   "cell_type": "markdown",
   "metadata": {
    "pycharm": {
     "name": "#%% md\n"
    }
   },
   "source": []
  },
  {
   "cell_type": "code",
   "execution_count": null,
   "metadata": {
    "pycharm": {
     "name": "#%%\n"
    }
   },
   "outputs": [],
   "source": []
  },
  {
   "cell_type": "markdown",
   "metadata": {
    "collapsed": false,
    "pycharm": {
     "name": "#%% md\n"
    }
   },
   "source": [
    "#### compile the model\n",
    "Following the results got by  https://github.com/sanghvirajit/Feedforward_Neural_Network\n",
    "We make the choice of the RMSprop optimizer\n"
   ]
  },
  {
   "cell_type": "code",
   "execution_count": 118,
   "metadata": {
    "collapsed": false,
    "pycharm": {
     "name": "#%%\n"
    }
   },
   "outputs": [],
   "source": [
    "optimizer = tf.keras.optimizers.RMSprop(learning_rate=0.001)\n",
    "\n",
    "model_letters.compile(optimizer = optimizer, loss = 'sparse_categorical_crossentropy', metrics = ['accuracy'])"
   ]
  },
  {
   "cell_type": "markdown",
   "metadata": {
    "collapsed": false,
    "pycharm": {
     "name": "#%% md\n"
    }
   },
   "source": [
    "#### Train the model"
   ]
  },
  {
   "cell_type": "markdown",
   "metadata": {
    "collapsed": false,
    "pycharm": {
     "name": "#%% md\n"
    }
   },
   "source": [
    "Reduce learning rate when a metric has stopped improving,we will gain in time while fitting the model by converging faster to the global minimum by decreasing the learning rate.\n",
    "Set a learning rate annealer. we chose to decrease by 75%"
   ]
  },
  {
   "cell_type": "code",
   "execution_count": 119,
   "metadata": {
    "collapsed": false,
    "pycharm": {
     "name": "#%%\n"
    }
   },
   "outputs": [],
   "source": [
    "learning_rate_reduction = ReduceLROnPlateau(monitor='val_accuracy',\n",
    "                                            patience=2, # number of epochs with no improvement after which learning rate will be reduced.\n",
    "                                            verbose=1, #update messages\n",
    "                                            factor=0.25, #new_lr = lr * factor`.\n",
    "                                            min_lr=0.000001 # minimum learning rate\n",
    "                                            )"
   ]
  },
  {
   "cell_type": "markdown",
   "metadata": {
    "pycharm": {
     "name": "#%% md\n"
    }
   },
   "source": [
    "## Fit the model"
   ]
  },
  {
   "cell_type": "code",
   "execution_count": 120,
   "metadata": {
    "collapsed": false,
    "pycharm": {
     "name": "#%%\n"
    }
   },
   "outputs": [
    {
     "name": "stdout",
     "output_type": "stream",
     "text": [
      "Epoch 1/50\n",
      "1437/1820 [======================>.......] - ETA: 1:07 - loss: 0.9577 - accuracy: 0.7144"
     ]
    }
   ],
   "source": [
    "history = model_letters.fit(train_generator, epochs=50, \n",
    "        validation_data=test_generator,  callbacks=[learning_rate_reduction])"
   ]
  },
  {
   "cell_type": "markdown",
   "metadata": {
    "pycharm": {
     "name": "#%% md\n"
    }
   },
   "source": [
    "## plot  curves"
   ]
  },
  {
   "cell_type": "code",
   "execution_count": null,
   "metadata": {
    "pycharm": {
     "name": "#%%\n"
    }
   },
   "outputs": [],
   "source": [
    "pyplot.title('Learning Curves')\n",
    "pyplot.xlabel('Epoch')\n",
    "pyplot.ylabel('Cross Entropy')\n",
    "pyplot.plot(history.history['loss'], label='train')\n",
    "pyplot.plot(history.history['val_loss'], label='val')\n",
    "pyplot.legend()\n",
    "pyplot.show()"
   ]
  },
  {
   "cell_type": "code",
   "execution_count": null,
   "metadata": {
    "pycharm": {
     "name": "#%%\n"
    }
   },
   "outputs": [],
   "source": [
    "pyplot.title('Accuracy Curves')\n",
    "pyplot.xlabel('Epoch')\n",
    "pyplot.ylabel('Accuray')\n",
    "pyplot.plot(history.history['accuracy'], label='Accuracy')\n",
    "pyplot.plot(history.history['val_accuracy'], label='Val_Accuracy')\n",
    "pyplot.legend()\n",
    "pyplot.show()"
   ]
  },
  {
   "cell_type": "markdown",
   "metadata": {
    "pycharm": {
     "name": "#%% md\n"
    }
   },
   "source": [
    "## Confusion matrix"
   ]
  },
  {
   "cell_type": "code",
   "execution_count": null,
   "metadata": {
    "pycharm": {
     "name": "#%%\n"
    }
   },
   "outputs": [],
   "source": [
    "\n",
    "test_generator.reset()\n",
    "pred_list=[ ] # will store the predicted classes here\n",
    "true_list=[]\n",
    "classes=list(test_generator.class_indices.keys()) # ordered lst of class names \n",
    "prediction = model_letters.predict(test_generator)\n",
    "predictions = prediction.argmax(axis=1)\n",
    "labels=test_generator.labels\n",
    "for i, p in enumerate (prediction):\n",
    "    index=np.argmax(p)\n",
    "    pred_list.append(classes[index])\n",
    "    true_list.append(classes[labels[i]])\n",
    "y_pred=np.array(pred_list)\n",
    "y_true=np.array(true_list)\n",
    "\n"
   ]
  },
  {
   "cell_type": "code",
   "execution_count": null,
   "metadata": {
    "pycharm": {
     "name": "#%%\n"
    }
   },
   "outputs": [],
   "source": [
    "sns.set(rc = {'figure.figsize':(15,15)})\n",
    "cm = confusion_matrix(y_true, y_pred)\n",
    "sns.heatmap(cm,annot=True, fmt='g', cmap='Blues')"
   ]
  },
  {
   "cell_type": "markdown",
   "metadata": {
    "collapsed": false,
    "pycharm": {
     "name": "#%% md\n"
    }
   },
   "source": [
    "## Model Evaluation"
   ]
  },
  {
   "cell_type": "code",
   "execution_count": null,
   "metadata": {
    "pycharm": {
     "name": "#%%\n"
    }
   },
   "outputs": [
    {
     "name": "stdout",
     "output_type": "stream",
     "text": [
      "1625/1625 [==============================] - 38s 23ms/step - loss: 0.5133 - accuracy: 0.8543\n",
      "evaluate accuracy: 85.43%\n"
     ]
    }
   ],
   "source": [
    "\n",
    "\n",
    "test_generator.reset()\n",
    "# Evaluate on Validation data\n",
    "scores = model_letters.evaluate(test_generator)\n",
    "print(\"%s%s: %.2f%%\" % (\"evaluate \",model_letters.metrics_names[1], scores[1]*100))\n"
   ]
  },
  {
   "cell_type": "code",
   "execution_count": null,
   "metadata": {
    "pycharm": {
     "name": "#%%\n"
    }
   },
   "outputs": [
    {
     "name": "stdout",
     "output_type": "stream",
     "text": [
      "1625/1625 [==============================] - 37s 23ms/step\n",
      "[ 6  6 25 ... 15 25 10]\n"
     ]
    }
   ],
   "source": [
    "test_generator.reset()\n",
    "pred=model_letters.predict(test_generator)\n",
    "predicted_class_indices=np.argmax(pred,axis=1)\n",
    "print(predicted_class_indices)"
   ]
  },
  {
   "cell_type": "code",
   "execution_count": null,
   "metadata": {
    "pycharm": {
     "name": "#%%\n"
    }
   },
   "outputs": [
    {
     "name": "stdout",
     "output_type": "stream",
     "text": [
      "A 2140\n",
      "B 2140\n",
      "C 2013\n",
      "D 1451\n",
      "E 1607\n",
      "F 1827\n",
      "G 2026\n",
      "H 1596\n",
      "I 2022\n",
      "J 2094\n",
      "K 1994\n",
      "L 1968\n",
      "M 2210\n",
      "N 2348\n",
      "O 2793\n",
      "P 2101\n",
      "Q 1973\n",
      "R 2009\n",
      "S 2055\n",
      "T 1863\n",
      "U 1989\n",
      "V 1822\n",
      "W 1910\n",
      "X 2121\n",
      "Y 1814\n",
      "Z 2114\n"
     ]
    }
   ],
   "source": [
    "labels = (train_generator.class_indices)\n",
    "labels = dict((v,k) for k,v in labels.items())\n",
    "predictions = [labels[k] for k in predicted_class_indices]\n",
    "#voir les données qui reviennent souvent matrice de confusion\n",
    "for i in alphabet_list:\n",
    "    print(i + \" \" + str(predictions.count(i)))"
   ]
  },
  {
   "cell_type": "code",
   "execution_count": null,
   "metadata": {
    "pycharm": {
     "name": "#%%\n"
    }
   },
   "outputs": [
    {
     "data": {
      "image/png": "[encoded data removed]",
      "text/plain": [
       "<PIL.JpegImagePlugin.JpegImageFile image mode=L size=28x28>"
      ]
     },
     "metadata": {},
     "output_type": "display_data"
    },
    {
     "data": {
      "image/png": "[encoded data removed]",
      "text/plain": [
       "<PIL.Image.Image image mode=L size=28x28>"
      ]
     },
     "metadata": {},
     "output_type": "display_data"
    },
    {
     "name": "stdout",
     "output_type": "stream",
     "text": [
      "(28, 28, 3)\n",
      "1/1 [==============================] - 0s 45ms/step\n",
      "[[0. 1. 0. 0. 0. 0. 0. 0. 0. 0. 0. 0. 0. 0. 0. 0. 0. 0. 0. 0. 0. 0. 0. 0.\n",
      "  0. 0.]]\n",
      "1.0\n",
      "1\n",
      "B\n"
     ]
    }
   ],
   "source": [
    "index= predict_model(\"/home/azureuser/letters_dataset/testing/B/0.jpg\",model_letters)\n",
    "print(dict_directory[index[0]])"
   ]
  }
 ],
 "metadata": {
  "interpreter": {
   "hash": "916dbcbb3f70747c44a77c7bcd40155683ae19c65e1c03b4aa3499c5328201f1"
  },
  "kernelspec": {
   "display_name": "Python 3.8.10 64-bit",
   "language": "python",
   "name": "python3"
  },
  "language_info": {
   "codemirror_mode": {
    "name": "ipython",
    "version": 3
   },
   "file_extension": ".py",
   "mimetype": "text/x-python",
   "name": "python",
   "nbconvert_exporter": "python",
   "pygments_lexer": "ipython3",
   "version": "3.8.10"
  },
  "vscode": {
   "interpreter": {
    "hash": "31f2aee4e71d21fbe5cf8b01ff0e069b9275f58929596ceb00d14d90e3e16cd6"
   }
  }
 },
 "nbformat": 4,
 "nbformat_minor": 0
}